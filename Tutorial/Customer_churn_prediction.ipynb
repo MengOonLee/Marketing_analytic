{
 "cells": [
  {
   "cell_type": "code",
   "execution_count": 1,
   "metadata": {},
   "outputs": [],
   "source": [
    "import os\n",
    "import numpy as np\n",
    "import pandas as pd\n",
    "import matplotlib.pyplot as plt\n",
    "%matplotlib inline\n",
    "import seaborn as sns\n",
    "\n",
    "from sklearn.preprocessing import LabelEncoder, StandardScaler"
   ]
  },
  {
   "cell_type": "code",
   "execution_count": 2,
   "metadata": {},
   "outputs": [],
   "source": [
    "if not os.path.exists('./data'):\n",
    "    os.makedirs('./data')\n",
    "\n",
    "!wget -qO ./data/Churn.csv \"https://assets.datacamp.com/production/repositories/1764/datasets/79c5446a4a753e728e32b4a67138344847b8f131/Churn.csv\""
   ]
  },
  {
   "cell_type": "markdown",
   "metadata": {},
   "source": [
    "# Exploratory data analysis"
   ]
  },
  {
   "cell_type": "code",
   "execution_count": 3,
   "metadata": {},
   "outputs": [
    {
     "data": {
      "text/html": [
       "<div>\n",
       "<style scoped>\n",
       "    .dataframe tbody tr th:only-of-type {\n",
       "        vertical-align: middle;\n",
       "    }\n",
       "\n",
       "    .dataframe tbody tr th {\n",
       "        vertical-align: top;\n",
       "    }\n",
       "\n",
       "    .dataframe thead th {\n",
       "        text-align: right;\n",
       "    }\n",
       "</style>\n",
       "<table border=\"1\" class=\"dataframe\">\n",
       "  <thead>\n",
       "    <tr style=\"text-align: right;\">\n",
       "      <th></th>\n",
       "      <th>Account_Length</th>\n",
       "      <th>Vmail_Message</th>\n",
       "      <th>Day_Mins</th>\n",
       "      <th>Eve_Mins</th>\n",
       "      <th>Night_Mins</th>\n",
       "      <th>Intl_Mins</th>\n",
       "      <th>CustServ_Calls</th>\n",
       "      <th>Churn</th>\n",
       "      <th>Intl_Plan</th>\n",
       "      <th>Vmail_Plan</th>\n",
       "      <th>...</th>\n",
       "      <th>Day_Charge</th>\n",
       "      <th>Eve_Calls</th>\n",
       "      <th>Eve_Charge</th>\n",
       "      <th>Night_Calls</th>\n",
       "      <th>Night_Charge</th>\n",
       "      <th>Intl_Calls</th>\n",
       "      <th>Intl_Charge</th>\n",
       "      <th>State</th>\n",
       "      <th>Area_Code</th>\n",
       "      <th>Phone</th>\n",
       "    </tr>\n",
       "  </thead>\n",
       "  <tbody>\n",
       "    <tr>\n",
       "      <th>0</th>\n",
       "      <td>128</td>\n",
       "      <td>25</td>\n",
       "      <td>265.1</td>\n",
       "      <td>197.4</td>\n",
       "      <td>244.7</td>\n",
       "      <td>10.0</td>\n",
       "      <td>1</td>\n",
       "      <td>no</td>\n",
       "      <td>no</td>\n",
       "      <td>yes</td>\n",
       "      <td>...</td>\n",
       "      <td>45.07</td>\n",
       "      <td>99</td>\n",
       "      <td>16.78</td>\n",
       "      <td>91</td>\n",
       "      <td>11.01</td>\n",
       "      <td>3</td>\n",
       "      <td>2.70</td>\n",
       "      <td>KS</td>\n",
       "      <td>415</td>\n",
       "      <td>382-4657</td>\n",
       "    </tr>\n",
       "    <tr>\n",
       "      <th>1</th>\n",
       "      <td>107</td>\n",
       "      <td>26</td>\n",
       "      <td>161.6</td>\n",
       "      <td>195.5</td>\n",
       "      <td>254.4</td>\n",
       "      <td>13.7</td>\n",
       "      <td>1</td>\n",
       "      <td>no</td>\n",
       "      <td>no</td>\n",
       "      <td>yes</td>\n",
       "      <td>...</td>\n",
       "      <td>27.47</td>\n",
       "      <td>103</td>\n",
       "      <td>16.62</td>\n",
       "      <td>103</td>\n",
       "      <td>11.45</td>\n",
       "      <td>3</td>\n",
       "      <td>3.70</td>\n",
       "      <td>OH</td>\n",
       "      <td>415</td>\n",
       "      <td>371-7191</td>\n",
       "    </tr>\n",
       "    <tr>\n",
       "      <th>2</th>\n",
       "      <td>137</td>\n",
       "      <td>0</td>\n",
       "      <td>243.4</td>\n",
       "      <td>121.2</td>\n",
       "      <td>162.6</td>\n",
       "      <td>12.2</td>\n",
       "      <td>0</td>\n",
       "      <td>no</td>\n",
       "      <td>no</td>\n",
       "      <td>no</td>\n",
       "      <td>...</td>\n",
       "      <td>41.38</td>\n",
       "      <td>110</td>\n",
       "      <td>10.30</td>\n",
       "      <td>104</td>\n",
       "      <td>7.32</td>\n",
       "      <td>5</td>\n",
       "      <td>3.29</td>\n",
       "      <td>NJ</td>\n",
       "      <td>415</td>\n",
       "      <td>358-1921</td>\n",
       "    </tr>\n",
       "    <tr>\n",
       "      <th>3</th>\n",
       "      <td>84</td>\n",
       "      <td>0</td>\n",
       "      <td>299.4</td>\n",
       "      <td>61.9</td>\n",
       "      <td>196.9</td>\n",
       "      <td>6.6</td>\n",
       "      <td>2</td>\n",
       "      <td>no</td>\n",
       "      <td>yes</td>\n",
       "      <td>no</td>\n",
       "      <td>...</td>\n",
       "      <td>50.90</td>\n",
       "      <td>88</td>\n",
       "      <td>5.26</td>\n",
       "      <td>89</td>\n",
       "      <td>8.86</td>\n",
       "      <td>7</td>\n",
       "      <td>1.78</td>\n",
       "      <td>OH</td>\n",
       "      <td>408</td>\n",
       "      <td>375-9999</td>\n",
       "    </tr>\n",
       "    <tr>\n",
       "      <th>4</th>\n",
       "      <td>75</td>\n",
       "      <td>0</td>\n",
       "      <td>166.7</td>\n",
       "      <td>148.3</td>\n",
       "      <td>186.9</td>\n",
       "      <td>10.1</td>\n",
       "      <td>3</td>\n",
       "      <td>no</td>\n",
       "      <td>yes</td>\n",
       "      <td>no</td>\n",
       "      <td>...</td>\n",
       "      <td>28.34</td>\n",
       "      <td>122</td>\n",
       "      <td>12.61</td>\n",
       "      <td>121</td>\n",
       "      <td>8.41</td>\n",
       "      <td>3</td>\n",
       "      <td>2.73</td>\n",
       "      <td>OK</td>\n",
       "      <td>415</td>\n",
       "      <td>330-6626</td>\n",
       "    </tr>\n",
       "  </tbody>\n",
       "</table>\n",
       "<p>5 rows × 21 columns</p>\n",
       "</div>"
      ],
      "text/plain": [
       "   Account_Length  Vmail_Message  Day_Mins  Eve_Mins  Night_Mins  Intl_Mins  \\\n",
       "0             128             25     265.1     197.4       244.7       10.0   \n",
       "1             107             26     161.6     195.5       254.4       13.7   \n",
       "2             137              0     243.4     121.2       162.6       12.2   \n",
       "3              84              0     299.4      61.9       196.9        6.6   \n",
       "4              75              0     166.7     148.3       186.9       10.1   \n",
       "\n",
       "   CustServ_Calls Churn Intl_Plan Vmail_Plan  ...  Day_Charge  Eve_Calls  \\\n",
       "0               1    no        no        yes  ...       45.07         99   \n",
       "1               1    no        no        yes  ...       27.47        103   \n",
       "2               0    no        no         no  ...       41.38        110   \n",
       "3               2    no       yes         no  ...       50.90         88   \n",
       "4               3    no       yes         no  ...       28.34        122   \n",
       "\n",
       "   Eve_Charge  Night_Calls  Night_Charge  Intl_Calls  Intl_Charge  State  \\\n",
       "0       16.78           91         11.01           3         2.70     KS   \n",
       "1       16.62          103         11.45           3         3.70     OH   \n",
       "2       10.30          104          7.32           5         3.29     NJ   \n",
       "3        5.26           89          8.86           7         1.78     OH   \n",
       "4       12.61          121          8.41           3         2.73     OK   \n",
       "\n",
       "  Area_Code     Phone  \n",
       "0       415  382-4657  \n",
       "1       415  371-7191  \n",
       "2       415  358-1921  \n",
       "3       408  375-9999  \n",
       "4       415  330-6626  \n",
       "\n",
       "[5 rows x 21 columns]"
      ]
     },
     "execution_count": 3,
     "metadata": {},
     "output_type": "execute_result"
    }
   ],
   "source": [
    "# Importing data using pandas\n",
    "telco = pd.read_csv('./data/Churn.csv')\n",
    "telco.head()"
   ]
  },
  {
   "cell_type": "code",
   "execution_count": 4,
   "metadata": {
    "scrolled": true
   },
   "outputs": [
    {
     "name": "stdout",
     "output_type": "stream",
     "text": [
      "<class 'pandas.core.frame.DataFrame'>\n",
      "RangeIndex: 3333 entries, 0 to 3332\n",
      "Data columns (total 21 columns):\n",
      " #   Column          Non-Null Count  Dtype  \n",
      "---  ------          --------------  -----  \n",
      " 0   Account_Length  3333 non-null   int64  \n",
      " 1   Vmail_Message   3333 non-null   int64  \n",
      " 2   Day_Mins        3333 non-null   float64\n",
      " 3   Eve_Mins        3333 non-null   float64\n",
      " 4   Night_Mins      3333 non-null   float64\n",
      " 5   Intl_Mins       3333 non-null   float64\n",
      " 6   CustServ_Calls  3333 non-null   int64  \n",
      " 7   Churn           3333 non-null   object \n",
      " 8   Intl_Plan       3333 non-null   object \n",
      " 9   Vmail_Plan      3333 non-null   object \n",
      " 10  Day_Calls       3333 non-null   int64  \n",
      " 11  Day_Charge      3333 non-null   float64\n",
      " 12  Eve_Calls       3333 non-null   int64  \n",
      " 13  Eve_Charge      3333 non-null   float64\n",
      " 14  Night_Calls     3333 non-null   int64  \n",
      " 15  Night_Charge    3333 non-null   float64\n",
      " 16  Intl_Calls      3333 non-null   int64  \n",
      " 17  Intl_Charge     3333 non-null   float64\n",
      " 18  State           3333 non-null   object \n",
      " 19  Area_Code       3333 non-null   int64  \n",
      " 20  Phone           3333 non-null   object \n",
      "dtypes: float64(8), int64(8), object(5)\n",
      "memory usage: 546.9+ KB\n"
     ]
    }
   ],
   "source": [
    "# Data type\n",
    "telco.info()"
   ]
  },
  {
   "cell_type": "code",
   "execution_count": 5,
   "metadata": {},
   "outputs": [
    {
     "data": {
      "image/png": "[encoded data removed]",
      "text/plain": [
       "<Figure size 432x288 with 1 Axes>"
      ]
     },
     "metadata": {
      "needs_background": "light"
     },
     "output_type": "display_data"
    }
   ],
   "source": [
    "pd01 = telco['Churn'].value_counts(normalize=True)*100\n",
    "pd01.plot.bar()\n",
    "plt.title('% Churner')\n",
    "plt.xlabel('Churn')\n",
    "plt.ylabel('% churner')\n",
    "plt.show()"
   ]
  },
  {
   "cell_type": "code",
   "execution_count": 6,
   "metadata": {},
   "outputs": [
    {
     "data": {
      "text/html": [
       "<div>\n",
       "<style scoped>\n",
       "    .dataframe tbody tr th:only-of-type {\n",
       "        vertical-align: middle;\n",
       "    }\n",
       "\n",
       "    .dataframe tbody tr th {\n",
       "        vertical-align: top;\n",
       "    }\n",
       "\n",
       "    .dataframe thead th {\n",
       "        text-align: right;\n",
       "    }\n",
       "</style>\n",
       "<table border=\"1\" class=\"dataframe\">\n",
       "  <thead>\n",
       "    <tr style=\"text-align: right;\">\n",
       "      <th></th>\n",
       "      <th>Account_Length</th>\n",
       "      <th>Vmail_Message</th>\n",
       "      <th>Day_Mins</th>\n",
       "      <th>Eve_Mins</th>\n",
       "      <th>Night_Mins</th>\n",
       "      <th>Intl_Mins</th>\n",
       "      <th>CustServ_Calls</th>\n",
       "      <th>Day_Calls</th>\n",
       "      <th>Day_Charge</th>\n",
       "      <th>Eve_Calls</th>\n",
       "      <th>Eve_Charge</th>\n",
       "      <th>Night_Calls</th>\n",
       "      <th>Night_Charge</th>\n",
       "      <th>Intl_Calls</th>\n",
       "      <th>Intl_Charge</th>\n",
       "      <th>Area_Code</th>\n",
       "    </tr>\n",
       "    <tr>\n",
       "      <th>Churn</th>\n",
       "      <th></th>\n",
       "      <th></th>\n",
       "      <th></th>\n",
       "      <th></th>\n",
       "      <th></th>\n",
       "      <th></th>\n",
       "      <th></th>\n",
       "      <th></th>\n",
       "      <th></th>\n",
       "      <th></th>\n",
       "      <th></th>\n",
       "      <th></th>\n",
       "      <th></th>\n",
       "      <th></th>\n",
       "      <th></th>\n",
       "      <th></th>\n",
       "    </tr>\n",
       "  </thead>\n",
       "  <tbody>\n",
       "    <tr>\n",
       "      <th>no</th>\n",
       "      <td>100.793684</td>\n",
       "      <td>8.604561</td>\n",
       "      <td>175.175754</td>\n",
       "      <td>199.043298</td>\n",
       "      <td>200.133193</td>\n",
       "      <td>10.158877</td>\n",
       "      <td>1.449825</td>\n",
       "      <td>100.283158</td>\n",
       "      <td>29.780421</td>\n",
       "      <td>100.038596</td>\n",
       "      <td>16.918909</td>\n",
       "      <td>100.058246</td>\n",
       "      <td>9.006074</td>\n",
       "      <td>4.532982</td>\n",
       "      <td>2.743404</td>\n",
       "      <td>437.074737</td>\n",
       "    </tr>\n",
       "    <tr>\n",
       "      <th>yes</th>\n",
       "      <td>102.664596</td>\n",
       "      <td>5.115942</td>\n",
       "      <td>206.914079</td>\n",
       "      <td>212.410145</td>\n",
       "      <td>205.231677</td>\n",
       "      <td>10.700000</td>\n",
       "      <td>2.229814</td>\n",
       "      <td>101.335404</td>\n",
       "      <td>35.175921</td>\n",
       "      <td>100.561077</td>\n",
       "      <td>18.054969</td>\n",
       "      <td>100.399586</td>\n",
       "      <td>9.235528</td>\n",
       "      <td>4.163561</td>\n",
       "      <td>2.889545</td>\n",
       "      <td>437.817805</td>\n",
       "    </tr>\n",
       "  </tbody>\n",
       "</table>\n",
       "</div>"
      ],
      "text/plain": [
       "       Account_Length  Vmail_Message    Day_Mins    Eve_Mins  Night_Mins  \\\n",
       "Churn                                                                      \n",
       "no         100.793684       8.604561  175.175754  199.043298  200.133193   \n",
       "yes        102.664596       5.115942  206.914079  212.410145  205.231677   \n",
       "\n",
       "       Intl_Mins  CustServ_Calls   Day_Calls  Day_Charge   Eve_Calls  \\\n",
       "Churn                                                                  \n",
       "no     10.158877        1.449825  100.283158   29.780421  100.038596   \n",
       "yes    10.700000        2.229814  101.335404   35.175921  100.561077   \n",
       "\n",
       "       Eve_Charge  Night_Calls  Night_Charge  Intl_Calls  Intl_Charge  \\\n",
       "Churn                                                                   \n",
       "no      16.918909   100.058246      9.006074    4.532982     2.743404   \n",
       "yes     18.054969   100.399586      9.235528    4.163561     2.889545   \n",
       "\n",
       "        Area_Code  \n",
       "Churn              \n",
       "no     437.074737  \n",
       "yes    437.817805  "
      ]
     },
     "execution_count": 6,
     "metadata": {},
     "output_type": "execute_result"
    }
   ],
   "source": [
    "# Group telco by 'Churn' and compute the mean\n",
    "telco.groupby('Churn').mean()"
   ]
  },
  {
   "cell_type": "code",
   "execution_count": 7,
   "metadata": {},
   "outputs": [
    {
     "data": {
      "image/png": "[encoded data removed]",
      "text/plain": [
       "<Figure size 1440x720 with 1 Axes>"
      ]
     },
     "metadata": {
      "needs_background": "light"
     },
     "output_type": "display_data"
    }
   ],
   "source": [
    "# Count the number of churners and non-churners by State\n",
    "pd01 = pd.DataFrame(telco.groupby('State')['Churn'].value_counts())\\\n",
    "    .unstack(level=1)\n",
    "pd01.plot.bar(figsize=(20, 10))\n",
    "plt.title('# Churner by State')\n",
    "plt.xlabel('State')\n",
    "plt.ylabel('# Churner')\n",
    "plt.show()"
   ]
  },
  {
   "cell_type": "code",
   "execution_count": 8,
   "metadata": {},
   "outputs": [
    {
     "data": {
      "image/png": "[encoded data removed]",
      "text/plain": [
       "<Figure size 360x360 with 1 Axes>"
      ]
     },
     "metadata": {
      "needs_background": "light"
     },
     "output_type": "display_data"
    }
   ],
   "source": [
    "# Visualizing the distribution of account lengths\n",
    "sns.displot(telco['Account_Length'])\n",
    "plt.show()"
   ]
  },
  {
   "cell_type": "code",
   "execution_count": 9,
   "metadata": {},
   "outputs": [
    {
     "data": {
      "image/png": "[encoded data removed]",
      "text/plain": [
       "<Figure size 432x288 with 1 Axes>"
      ]
     },
     "metadata": {
      "needs_background": "light"
     },
     "output_type": "display_data"
    }
   ],
   "source": [
    "# Differences in account length\n",
    "sns.boxplot(data=telco, x='Churn', y='Account_Length', \n",
    "    hue='Intl_Plan')\n",
    "plt.show()"
   ]
  },
  {
   "cell_type": "markdown",
   "metadata": {},
   "source": [
    "# Feature engineering"
   ]
  },
  {
   "cell_type": "code",
   "execution_count": 10,
   "metadata": {},
   "outputs": [],
   "source": [
    "# Dropping unnecessary features\n",
    "telco = telco.drop(['Area_Code', 'Phone'], axis=1)"
   ]
  },
  {
   "cell_type": "code",
   "execution_count": 11,
   "metadata": {},
   "outputs": [
    {
     "data": {
      "image/png": "[encoded data removed]",
      "text/plain": [
       "<Figure size 432x288 with 2 Axes>"
      ]
     },
     "metadata": {
      "needs_background": "light"
     },
     "output_type": "display_data"
    }
   ],
   "source": [
    "# Highly correlated features can be dropped\n",
    "# calculate the correlation matrix\n",
    "corr = telco.corr()\n",
    "# plot the heatmap\n",
    "# Add diverging colormap from red to blue\n",
    "cmap = sns.diverging_palette(250, 10, as_cmap=True)\n",
    "sns.heatmap(corr, xticklabels=corr.columns, yticklabels=corr.columns,\n",
    "    cmap=cmap)\n",
    "plt.show()"
   ]
  },
  {
   "cell_type": "code",
   "execution_count": 12,
   "metadata": {},
   "outputs": [],
   "source": [
    "# Ratio between Minutes and Charge\n",
    "telco['Day_Cost'] = telco['Day_Mins']/telco['Day_Charge']\n",
    "telco['Eve_Cost'] = telco['Eve_Mins']/telco['Eve_Charge']\n",
    "telco['Night_Cost'] = telco['Night_Mins']/telco['Night_Charge']\n",
    "telco['Intl_Cost'] = telco['Intl_Mins']/telco['Intl_Charge']\n",
    "\n",
    "# Average length of calls\n",
    "telco['Avg_Day_Mins'] = telco['Day_Mins']/telco['Day_Calls']\n",
    "telco['Avg_Eve_Mins'] = telco['Eve_Mins']/telco['Eve_Calls']\n",
    "telco['Avg_Night_Mins'] = telco['Night_Mins']/telco['Night_Calls']\n",
    "telco['Avg_Intl_Mins'] = telco['Intl_Mins']/telco['Intl_Calls']"
   ]
  },
  {
   "cell_type": "code",
   "execution_count": 13,
   "metadata": {},
   "outputs": [],
   "source": [
    "# Dropping Highly correlated  features\n",
    "drop_var = ['Day_Mins', 'Eve_Mins', 'Night_Mins', 'Intl_Mins',\n",
    "    'Day_Charge', 'Eve_Charge', 'Night_Charge', 'Intl_Charge']\n",
    "telco = telco.drop(drop_var, axis=1)"
   ]
  },
  {
   "cell_type": "markdown",
   "metadata": {},
   "source": [
    "# Data preprocessing"
   ]
  },
  {
   "cell_type": "code",
   "execution_count": 16,
   "metadata": {
    "scrolled": true
   },
   "outputs": [
    {
     "name": "stdout",
     "output_type": "stream",
     "text": [
      "<class 'pandas.core.frame.DataFrame'>\n",
      "RangeIndex: 3333 entries, 0 to 3332\n",
      "Data columns (total 19 columns):\n",
      " #   Column          Non-Null Count  Dtype  \n",
      "---  ------          --------------  -----  \n",
      " 0   Account_Length  3333 non-null   int64  \n",
      " 1   Vmail_Message   3333 non-null   int64  \n",
      " 2   CustServ_Calls  3333 non-null   int64  \n",
      " 3   Churn           3333 non-null   object \n",
      " 4   Intl_Plan       3333 non-null   object \n",
      " 5   Vmail_Plan      3333 non-null   object \n",
      " 6   Day_Calls       3333 non-null   int64  \n",
      " 7   Eve_Calls       3333 non-null   int64  \n",
      " 8   Night_Calls     3333 non-null   int64  \n",
      " 9   Intl_Calls      3333 non-null   int64  \n",
      " 10  State           3333 non-null   object \n",
      " 11  Day_Cost        3331 non-null   float64\n",
      " 12  Eve_Cost        3332 non-null   float64\n",
      " 13  Night_Cost      3333 non-null   float64\n",
      " 14  Intl_Cost       3315 non-null   float64\n",
      " 15  Avg_Day_Mins    3331 non-null   float64\n",
      " 16  Avg_Eve_Mins    3332 non-null   float64\n",
      " 17  Avg_Night_Mins  3333 non-null   float64\n",
      " 18  Avg_Intl_Mins   3315 non-null   float64\n",
      "dtypes: float64(8), int64(7), object(4)\n",
      "memory usage: 494.9+ KB\n"
     ]
    }
   ],
   "source": [
    "# Data type\n",
    "telco.info()"
   ]
  },
  {
   "cell_type": "code",
   "execution_count": null,
   "metadata": {},
   "outputs": [],
   "source": [
    "# Encoding binary features\n",
    "\n",
    "telco['Intl_Plan'] = LabelEncoder().fit_transform(telco['Intl_Plan'])\n",
    "telco['Vmail_Plan'] = LabelEncoder().fit_transform(telco['Vmail_Plan'])\n",
    "telco['Churn'] = LabelEncoder().fit_transform(telco['Churn'])\n",
    "\n",
    "# Perform one hot encoding on 'State' \n",
    "telco_state = pd.get_dummies(telco['State'])\n",
    "\n",
    "# Standardization\n",
    "scale_var = ['Intl_Calls', 'Night_Mins']\n",
    "telco_scaled = StandardScaler().fit_transform(telco[scale_var])\n",
    "telco_scaled = pd.DataFrame(telco_scaled, columns=scale_var)"
   ]
  }
 ],
 "metadata": {
  "kernelspec": {
   "display_name": "Python 3",
   "language": "python",
   "name": "python3"
  },
  "language_info": {
   "codemirror_mode": {
    "name": "ipython",
    "version": 3
   },
   "file_extension": ".py",
   "mimetype": "text/x-python",
   "name": "python",
   "nbconvert_exporter": "python",
   "pygments_lexer": "ipython3",
   "version": "3.8.5"
  }
 },
 "nbformat": 4,
 "nbformat_minor": 4
}
